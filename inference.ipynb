{
 "cells": [
  {
   "cell_type": "code",
   "execution_count": null,
   "metadata": {},
   "outputs": [],
   "source": [
    "import tensorflow as tf\n",
    "from tensorflow import keras\n",
    "import numpy as np\n",
    "import os\n",
    "import PIL\n",
    "import matplotlib.pyplot as plt\n",
    "import sys\n",
    "import yaml\n",
    "\n",
    "from utils.dataset import DIV2K_Dataset\n",
    "from utils.model import create_model\n",
    "from utils.constants import HR_IMG_SIZE, DOWNSAMPLE_MODE"
   ]
  },
  {
   "cell_type": "code",
   "execution_count": null,
   "metadata": {},
   "outputs": [],
   "source": [
    "with open(\"config.yaml\", 'r') as stream:\n",
    "    config = yaml.safe_load(stream)\n",
    "\n",
    "model = keras.models.load_model(\"\") # path to model"
   ]
  },
  {
   "cell_type": "code",
   "execution_count": null,
   "metadata": {},
   "outputs": [],
   "source": [
    "test_dataset = DIV2K_Dataset(\n",
    "    hr_image_folder = \"data/DIV2K_train_valid_HR/\",\n",
    "    batch_size = config[\"batch_size\"],\n",
    "    set_type = \"test\"\n",
    ")"
   ]
  },
  {
   "cell_type": "code",
   "execution_count": null,
   "metadata": {},
   "outputs": [],
   "source": [
    "n = 5\n",
    "psnrs = []\n",
    "\n",
    "for _ in range(n):\n",
    "    for batch in test_dataset:\n",
    "        preds = model.predict(batch[0])\n",
    "        psnr = tf.image.psnr(batch[1], preds, max_val = 1.0)\n",
    "        psnr = psnr.numpy().tolist()\n",
    "        psnrs.extend(psnr)\n",
    "    \n",
    "print(\"Mean PSNR: {:.3f}\".format(np.mean(psnrs)))"
   ]
  },
  {
   "cell_type": "code",
   "execution_count": null,
   "metadata": {},
   "outputs": [],
   "source": [
    "batch_id = 1\n",
    "batch = test_dataset.__getitem__(batch_id)\n",
    "preds = model.predict(batch[0])"
   ]
  },
  {
   "cell_type": "code",
   "execution_count": null,
   "metadata": {},
   "outputs": [],
   "source": [
    "img_id = 19 # choose any image\n",
    "\n",
    "plt.figure(figsize=[6, 6])\n",
    "plt.subplot(2, 2, 1)\n",
    "plt.imshow(batch[0][img_id])\n",
    "plt.axis(\"off\")\n",
    "plt.title(\"LR Image\")\n",
    "\n",
    "plt.subplot(2, 2, 2)\n",
    "plt.imshow(batch[1][img_id])\n",
    "plt.axis(\"off\")\n",
    "plt.title(\"HR Image\")\n",
    "\n",
    "plt.subplot(2, 2, 3)\n",
    "plt.imshow(preds[img_id])\n",
    "plt.axis(\"off\")\n",
    "plt.title(\"Restored Image\")\n",
    "\n",
    "plt.subplot(2, 2, 4)\n",
    "lr_image = PIL.Image.fromarray(np.array(batch[0][img_id] * 255, dtype=\"uint8\"))\n",
    "lr_image_resized = lr_image.resize(HR_IMG_SIZE, resample=DOWNSAMPLE_MODE)\n",
    "plt.imshow(lr_image_resized)\n",
    "plt.axis(\"off\")\n",
    "plt.title(\"Bilinear Upsampling\")\n",
    "\n",
    "plt.tight_layout()\n",
    "plt.show()"
   ]
  },
  {
   "cell_type": "code",
   "execution_count": null,
   "metadata": {},
   "outputs": [],
   "source": []
  }
 ],
 "metadata": {
  "kernelspec": {
   "display_name": "Python 3",
   "language": "python",
   "name": "python3"
  },
  "language_info": {
   "codemirror_mode": {
    "name": "ipython",
    "version": 3
   },
   "file_extension": ".py",
   "mimetype": "text/x-python",
   "name": "python",
   "nbconvert_exporter": "python",
   "pygments_lexer": "ipython3",
   "version": "3.10.11"
  }
 },
 "nbformat": 4,
 "nbformat_minor": 2
}
